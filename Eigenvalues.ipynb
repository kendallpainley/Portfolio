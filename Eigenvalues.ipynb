{
 "cells": [
  {
   "cell_type": "code",
   "execution_count": 1,
   "id": "10d8299a-8518-462c-84f3-b71aae4b5443",
   "metadata": {},
   "outputs": [
    {
     "name": "stdout",
     "output_type": "stream",
     "text": [
      "Eigenvalues: [5. 2.]\n"
     ]
    }
   ],
   "source": [
    "import numpy as np\n",
    "\n",
    "def find_eigenvalues(matrix):\n",
    "    # Convert the input list of lists to a NumPy array\n",
    "    np_matrix = np.array(matrix)\n",
    "    \n",
    "    # Calculate the eigenvalues using numpy.linalg.eigvals\n",
    "    eigenvalues = np.linalg.eigvals(np_matrix)\n",
    "    \n",
    "    return eigenvalues\n",
    "\n",
    "# Example usage:\n",
    "if __name__ == \"__main__\":\n",
    "    # Define a square matrix\n",
    "    matrix = [\n",
    "        [4, 2],\n",
    "        [1, 3]\n",
    "    ]\n",
    "    \n",
    "    eigenvalues = find_eigenvalues(matrix)\n",
    "    print(\"Eigenvalues:\", eigenvalues)"
   ]
  },
  {
   "cell_type": "code",
   "execution_count": null,
   "id": "40283111-7c12-40d8-adee-e03dde1ef3ea",
   "metadata": {},
   "outputs": [],
   "source": []
  }
 ],
 "metadata": {
  "kernelspec": {
   "display_name": "Python 3 (ipykernel)",
   "language": "python",
   "name": "python3"
  },
  "language_info": {
   "codemirror_mode": {
    "name": "ipython",
    "version": 3
   },
   "file_extension": ".py",
   "mimetype": "text/x-python",
   "name": "python",
   "nbconvert_exporter": "python",
   "pygments_lexer": "ipython3",
   "version": "3.12.7"
  }
 },
 "nbformat": 4,
 "nbformat_minor": 5
}
