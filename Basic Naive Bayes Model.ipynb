{
 "cells": [
  {
   "cell_type": "code",
   "execution_count": 1,
   "id": "f2831e6b-3356-4be4-abe7-4142d1d5abc8",
   "metadata": {},
   "outputs": [
    {
     "name": "stdout",
     "output_type": "stream",
     "text": [
      "Accuracy: 0.00%\n",
      "'Win a free iPhone now' => Spam\n",
      "'Let's schedule a meeting' => Not Spam\n"
     ]
    }
   ],
   "source": [
    "\n",
    "from sklearn.model_selection import train_test_split\n",
    "from sklearn.naive_bayes import MultinomialNB\n",
    "from sklearn.metrics import accuracy_score\n",
    "\n",
    "# Example dataset\n",
    "# labels (0 = not spam, 1 = spam)\n",
    "texts = [\n",
    "    \"Free money now!!!\",\n",
    "    \"Hi, how are you?\",\n",
    "    \"Lowest prices on meds\",\n",
    "    \"Meeting at 10am\",\n",
    "    \"Congratulations, you won!\",\n",
    "    \"Are we still on for dinner?\",\n",
    "    \"Get rich quick\",\n",
    "    \"Let's catch up soon\",\n",
    "]\n",
    "labels = [1, 0, 1, 0, 1, 0, 1, 0]\n",
    "\n",
    "# Convert text data into numerical features using CountVectorizer\n",
    "from sklearn.feature_extraction.text import CountVectorizer\n",
    "\n",
    "vectorizer = CountVectorizer()\n",
    "X = vectorizer.fit_transform(texts)\n",
    "y = labels\n",
    "\n",
    "\n",
    "X_train, X_test, y_train, y_test = train_test_split(\n",
    "    X, y, test_size=0.25, random_state=42\n",
    ")\n",
    "\n",
    "nb_classifier = MultinomialNB()\n",
    "\n",
    "nb_classifier.fit(X_train, y_train)\n",
    "\n",
    "y_pred = nb_classifier.predict(X_test)\n",
    "\n",
    "accuracy = accuracy_score(y_test, y_pred)\n",
    "print(f\"Accuracy: {accuracy * 100:.2f}%\")\n",
    "\n",
    "new_texts = [\n",
    "    \"Win a free iPhone now\",\n",
    "    \"Let's schedule a meeting\",\n",
    "]\n",
    "X_new = vectorizer.transform(new_texts)\n",
    "predictions = nb_classifier.predict(X_new)\n",
    "\n",
    "for text, pred in zip(new_texts, predictions):\n",
    "    label = \"Spam\" if pred == 1 else \"Not Spam\"\n",
    "    print(f\"'{text}' => {label}\")"
   ]
  },
  {
   "cell_type": "code",
   "execution_count": null,
   "id": "1ed62494-1540-4464-9390-e9fac3f3dee5",
   "metadata": {},
   "outputs": [],
   "source": []
  }
 ],
 "metadata": {
  "kernelspec": {
   "display_name": "Python 3 (ipykernel)",
   "language": "python",
   "name": "python3"
  },
  "language_info": {
   "codemirror_mode": {
    "name": "ipython",
    "version": 3
   },
   "file_extension": ".py",
   "mimetype": "text/x-python",
   "name": "python",
   "nbconvert_exporter": "python",
   "pygments_lexer": "ipython3",
   "version": "3.12.7"
  }
 },
 "nbformat": 4,
 "nbformat_minor": 5
}
